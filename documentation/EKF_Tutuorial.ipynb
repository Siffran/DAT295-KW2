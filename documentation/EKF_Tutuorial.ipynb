{
 "cells": [
  {
   "cell_type": "markdown",
   "id": "f8484085",
   "metadata": {},
   "source": [
    "# EKF Tutorial"
   ]
  },
  {
   "cell_type": "markdown",
   "id": "771b0a76",
   "metadata": {},
   "source": [
    "## Intro"
   ]
  },
  {
   "cell_type": "markdown",
   "id": "081d44ad",
   "metadata": {},
   "source": [
    "This tutorial should give you a small overview how to implement the EKF in our current project.\n",
    "For further reading please consider this library documentation https://github.com/rlabbe/Kalman-and-Bayesian-Filters-in-Python .\n",
    "Especially the chapters 08 and 11.  \n",
    "**Most important hint:** Check your matrix dimensions!"
   ]
  },
  {
   "cell_type": "markdown",
   "id": "c2481c37",
   "metadata": {},
   "source": [
    "## Required Librarys"
   ]
  },
  {
   "cell_type": "code",
   "execution_count": 2,
   "id": "af9b7398",
   "metadata": {
    "scrolled": true
   },
   "outputs": [
    {
     "name": "stdout",
     "output_type": "stream",
     "text": [
      "Collecting filterpy\n",
      "  Downloading filterpy-1.4.5.zip (177 kB)\n",
      "     |████████████████████████████████| 177 kB 3.8 MB/s            \n",
      "\u001b[?25h  Preparing metadata (setup.py) ... \u001b[?25ldone\n",
      "\u001b[?25hRequirement already satisfied: numpy in /srv/conda/envs/notebook/lib/python3.6/site-packages (from filterpy) (1.19.5)\n",
      "Requirement already satisfied: scipy in /srv/conda/envs/notebook/lib/python3.6/site-packages (from filterpy) (1.5.3)\n",
      "Requirement already satisfied: matplotlib in /srv/conda/envs/notebook/lib/python3.6/site-packages (from filterpy) (3.3.4)\n",
      "Requirement already satisfied: kiwisolver>=1.0.1 in /srv/conda/envs/notebook/lib/python3.6/site-packages (from matplotlib->filterpy) (1.3.1)\n",
      "Requirement already satisfied: pyparsing!=2.0.4,!=2.1.2,!=2.1.6,>=2.0.3 in /srv/conda/envs/notebook/lib/python3.6/site-packages (from matplotlib->filterpy) (3.0.6)\n",
      "Requirement already satisfied: python-dateutil>=2.1 in /srv/conda/envs/notebook/lib/python3.6/site-packages (from matplotlib->filterpy) (2.8.2)\n",
      "Requirement already satisfied: cycler>=0.10 in /srv/conda/envs/notebook/lib/python3.6/site-packages (from matplotlib->filterpy) (0.11.0)\n",
      "Requirement already satisfied: pillow>=6.2.0 in /srv/conda/envs/notebook/lib/python3.6/site-packages (from matplotlib->filterpy) (8.3.2)\n",
      "Requirement already satisfied: six>=1.5 in /srv/conda/envs/notebook/lib/python3.6/site-packages (from python-dateutil>=2.1->matplotlib->filterpy) (1.16.0)\n",
      "Building wheels for collected packages: filterpy\n",
      "  Building wheel for filterpy (setup.py) ... \u001b[?25ldone\n",
      "\u001b[?25h  Created wheel for filterpy: filename=filterpy-1.4.5-py3-none-any.whl size=110474 sha256=6e44ebbe495376e9e16d79d46b1db1fb361a54e2122baec81b257dba99b54453\n",
      "  Stored in directory: /home/jovyan/.cache/pip/wheels/21/d4/10/5b385d83d179d1c83bda7424f080a92023de3b316ab2c3ae43\n",
      "Successfully built filterpy\n",
      "Installing collected packages: filterpy\n",
      "Successfully installed filterpy-1.4.5\n",
      "Note: you may need to restart the kernel to use updated packages.\n"
     ]
    }
   ],
   "source": [
    "pip install filterpy"
   ]
  },
  {
   "cell_type": "code",
   "execution_count": 12,
   "id": "36f0b84e",
   "metadata": {
    "scrolled": true
   },
   "outputs": [],
   "source": [
    "from filterpy.kalman import ExtendedKalmanFilter\n",
    "from filterpy.common import Q_discrete_white_noise\n",
    "\n",
    "from numpy import eye, array"
   ]
  },
  {
   "cell_type": "markdown",
   "id": "88e0c7bd",
   "metadata": {},
   "source": [
    "## Init EKF\n"
   ]
  },
  {
   "cell_type": "markdown",
   "id": "6d824311",
   "metadata": {},
   "source": [
    "### Constructor\n",
    "First determine the size of your state and measurement vectors.  \n",
    "In our simple case we only consider position, velocity and acceleration in y direction.\n",
    "In the measurement vector there are all sensors and their belonging values.\n",
    "For example to change the current 1D solution into a 2D solution (x and y) just increase $dim_x = 6$ and $dim_z = 4$."
   ]
  },
  {
   "cell_type": "code",
   "execution_count": 8,
   "id": "3d83b692",
   "metadata": {},
   "outputs": [],
   "source": [
    "ekf = ExtendedKalmanFilter(dim_x=3,dim_z=2) # x = [pos_y, vel_y, acc_y], z = [pos_y_wheel_encoder, acc_y_imu]"
   ]
  },
  {
   "cell_type": "markdown",
   "id": "e738c1f1",
   "metadata": {},
   "source": [
    "with $dim_x = 3$, \n",
    "$ \n",
    "    x = \n",
    "    \\left[ {\\begin{array}{c}\n",
    "            x\\\\\n",
    "            \\dot{x}\\\\\n",
    "            \\ddot{x}\\\\\n",
    "    \\end{array}} \\right]\n",
    "$\n",
    "and $dim_z = 2$,\n",
    "$ \n",
    "    x = \n",
    "    \\left[ {\\begin{array}{c}\n",
    "            x_{we}\\\\\n",
    "            \\ddot{x}_{IMU}\\\\\n",
    "    \\end{array}} \\right]\n",
    "$"
   ]
  },
  {
   "cell_type": "markdown",
   "id": "78d01582",
   "metadata": {},
   "source": [
    "### State Vector"
   ]
  },
  {
   "cell_type": "code",
   "execution_count": null,
   "id": "d61fd390",
   "metadata": {},
   "outputs": [],
   "source": [
    "dt = 0.1 # timestep\n",
    "ekf.x = [0, 0, 0] #start guess of state vector"
   ]
  },
  {
   "cell_type": "markdown",
   "id": "706081f0",
   "metadata": {},
   "source": [
    "### State Transition Matrix\n",
    "The State Transition Matrix occurs in the prediction step and maps the old state vector to the new state vector.\n",
    "The belonging system equations are:  \n",
    "$ x = x + \\dot{x}\\cdot dt + \\frac{\\ddot{x} \\cdot dt^{2}}{2}  \\\\\n",
    "$ v = 0 + \\dot{x} + \\ddot{x} \\cdot dt  \\\\\n",
    "$ a = 0 + 0 + \\ddot{x} \\\\\n"
    "$"
   ]
  },
  {
   "cell_type": "markdown",
   "id": "e16ea6df",
   "metadata": {},
   "source": [
    "$\n",
    "\\bar{x} = F x = \n",
    "    \\left[ {\\begin{array}{ccc}\n",
    "            1 & dt & 0.5 \\times dt^{2} \\\\\n",
    "            0 & 1 & dt \\\\\n",
    "            0 & 0 & 1 \\\\\n",
    "    \\end{array}} \\right]\n",
    "    \\times\n",
    "    \\left[ {\\begin{array}{c}\n",
    "            x\\\\\n",
    "            \\dot{x}\\\\\n",
    "            \\ddot{x}\\\\\n",
    "    \\end{array}} \\right]\n",
    "$"
   ]
  },
  {
   "cell_type": "code",
   "execution_count": 15,
   "id": "34d45acc",
   "metadata": {},
   "outputs": [],
   "source": [
    "ekf.F = eye(3) + array([[0, 1, 0.5 * dt],\n",
    "                        [0, 0, 1],\n",
    "                        [0, 0, 0]]) * dt"
   ]
  },
  {
   "cell_type": "markdown",
   "id": "fadd004c",
   "metadata": {},
   "source": [
    "$ dim_F = dim_x \\times dim_x $"
   ]
  },
  {
   "cell_type": "markdown",
   "id": "347f91ce",
   "metadata": {},
   "source": [
    "### Noise Matrices\n",
    "Q is the Process Noise Matrix, it influences the calculation in Prediction Step.\n",
    "It is an Engineering Parameter:\n",
    "* small Q: the filter will be overconfident in its prediction model and will diverge from the actual solution\n",
    "* large Q: the filter will be unduly influenced by the noise in the measurements and perform sub-optimally\n",
    "* $ dim_Q = dim_x \\times dim_x $\n",
    "\n",
    "R is the Mesurement Noise Matrix, it influences the calculation in Update Step and shows how reliable the measurements are.\n",
    "* $\n",
    "R =\n",
    "\\left[ {\\begin{array}{cc}\n",
    "            \\sigma_{we}^2 & 0 \\\\\n",
    "            0 & \\sigma_{IMU}^2\\\\\n",
    "    \\end{array}} \\right]\n",
    "    $  \n",
    "* Because assuming independence of Wheel Encoder and IMU, the off diagonals will be 0\n",
    "* $ dim_R = dim_z \\times dim_z $"
   ]
  },
  {
   "cell_type": "code",
   "execution_count": null,
   "id": "d234278f",
   "metadata": {},
   "outputs": [],
   "source": [
    "ekf.Q = Q_discrete_white_noise(3, var=.1)\n",
    "ekf.R = eye(2)*5 "
   ]
  },
  {
   "cell_type": "markdown",
   "id": "e3438989",
   "metadata": {},
   "source": [
    "### Posterior Covariance\n",
    "This is the covariance matrix from the prediction step.  \n",
    "Generally it is quite high in the beginning because it is a pure guess.  \n",
    "$ dim_P = dim_x \\times dim_x $"
   ]
  },
  {
   "cell_type": "code",
   "execution_count": null,
   "id": "5811c072",
   "metadata": {},
   "outputs": [],
   "source": [
    "ekf.P = eye(3) * 50 "
   ]
  },
  {
   "cell_type": "markdown",
   "id": "a0c6595e",
   "metadata": {},
   "source": [
    "## Help Functions\n",
    "### Measurement function h(x)\n",
    "The measurement function takes the state estimate of the prior and turn it into a measurement.\n",
    "$\n",
    "h(\\bar{x}) =\n",
    "\\left[ {\\begin{array}{c}\n",
    "            x + \\dot{x}\\cdot dt + \\frac{\\ddot{x} \\cdot dt^{2}}{2} \\\\\n",
    "            \\ddot{x}\\\\\n",
    "    \\end{array}} \\right]\n",
    "    $  \n",
    "$ dim_h = dim_z $"
   ]
  },
  {
   "cell_type": "code",
   "execution_count": null,
   "id": "c4ae543d",
   "metadata": {},
   "outputs": [],
   "source": [
    "def hx(self, x):\n",
    "        \"\"\"measurement function\"\"\"\n",
    "        return array([x[0] + x[1]*self.dt + 0.5*x[2]*self.dt**2, x[2]])     "
   ]
  },
  {
   "cell_type": "markdown",
   "id": "1bceb45d",
   "metadata": {},
   "source": [
    "### Jacobian H\n",
    "The partial derivative of a matrix is called Jacobian.\n",
    "$\n",
    "\\frac{\\partial h(\\bar{x})}{\\partial \\bar{x}} = H =\n",
    "\\left[ {\\begin{array}{ccc}\n",
    "            1 & dt & 0.5 \\cdot dt^{2} \\\\\n",
    "            0 & 0 & 1 \\\\\n",
    "    \\end{array}} \\right]\n",
    "    $   \n",
    "$ dim_H = dim_x x dim_z $  \n",
    "  \n",
    "$ z = Hx $"
   ]
  },
  {
   "cell_type": "code",
   "execution_count": null,
   "id": "9275ed59",
   "metadata": {},
   "outputs": [],
   "source": [
    "def HJacobian_at(self, x):\n",
    "        \"\"\" compute Jacobian of H matrix at x for EKF\"\"\"\n",
    "        return array([[1, self.dt, 0.5*self.dt**2],[0, 0, 1]]) "
   ]
  },
  {
   "cell_type": "markdown",
   "id": "cb2a4d02",
   "metadata": {},
   "source": [
    "## Processing\n",
    "1. Start with putting the new measurements into the z vector\n",
    "2. Perform update step\n",
    "3. Perform prediction step\n",
    "4. Repeat"
   ]
  },
  {
   "cell_type": "code",
   "execution_count": null,
   "id": "2a6e6bdb",
   "metadata": {},
   "outputs": [],
   "source": [
    "x_wheel_encoder = 0\n",
    "a_IMU = 0"
   ]
  },
  {
   "cell_type": "code",
   "execution_count": null,
   "id": "3cced31c",
   "metadata": {},
   "outputs": [],
   "source": [
    "# while or for loop\n",
    "z = array([subsystem_b.pos_y_wheel_encoder, subsystem_b.acc_y_imu]) \n",
    "ekf.update(z, HJacobian_at, hx)\n",
    "ekf.predict()"
   ]
  },
  {
   "cell_type": "markdown",
   "id": "f15fa3a8",
   "metadata": {},
   "source": [
    "Current estimated values can be read from state vector: ekf.x"
   ]
  }
 ],
 "metadata": {
  "kernelspec": {
   "display_name": "Python 3",
   "language": "python",
   "name": "python3"
  },
  "language_info": {
   "codemirror_mode": {
    "name": "ipython",
    "version": 3
   },
   "file_extension": ".py",
   "mimetype": "text/x-python",
   "name": "python",
   "nbconvert_exporter": "python",
   "pygments_lexer": "ipython3",
   "version": "3.6.13"
  }
 },
 "nbformat": 4,
 "nbformat_minor": 5
}
